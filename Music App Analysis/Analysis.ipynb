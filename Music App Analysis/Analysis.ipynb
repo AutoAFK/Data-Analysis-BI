{
 "cells": [
  {
   "cell_type": "markdown",
   "id": "cb34ce81-93f8-4eb6-9511-51234d7d4015",
   "metadata": {},
   "source": [
    "# Reading data from database"
   ]
  },
  {
   "cell_type": "code",
   "execution_count": 1,
   "id": "f78a8b17-f236-4b0d-9735-ec9820cb9ed1",
   "metadata": {},
   "outputs": [],
   "source": [
    "import pandas as pd\n",
    "import numpy as np\n",
    "import matplotlib.pyplot as plt\n",
    "import seaborn as sns\n",
    "import sqlalchemy\n",
    "from sqlalchemy import create_engine"
   ]
  },
  {
   "cell_type": "code",
   "execution_count": 2,
   "id": "11025032-687b-4f8e-9843-723b4b939bda",
   "metadata": {},
   "outputs": [],
   "source": [
    "user = \"postgres\"\n",
    "password = \"123123\"\n",
    "db_name = \"chinook\"\n",
    "hostname = \"localhost\"\n",
    "connection_string = f\"postgresql+psycopg2://{user}:{password}@{hostname}/{db_name}\"\n",
    "engine = create_engine(connection_string)"
   ]
  },
  {
   "cell_type": "code",
   "execution_count": 3,
   "id": "deba894a-4863-4256-a1f4-8caf0ee705c0",
   "metadata": {},
   "outputs": [],
   "source": [
    "with engine.connect() as conn:\n",
    "    dim_track = pd.read_sql_table('dim_track',conn,schema='dwh')\n",
    "    dim_playlist = pd.read_sql_table('dim_playlist',conn,schema='dwh')\n",
    "    dim_currency = pd.read_sql_table('dim_currency',conn,schema='dwh')\n",
    "    dim_customer = pd.read_sql_table('dim_customer',conn,schema='dwh')\n",
    "    dim_employee = pd.read_sql_table('dim_employee',conn,schema='dwh')\n",
    "    fact_invoice = pd.read_sql_table('fact_invoice',conn,schema='dwh')\n",
    "    fact_invoiceline = pd.read_sql_table('fact_invoiceline',conn,schema='dwh')"
   ]
  },
  {
   "cell_type": "markdown",
   "id": "b1a32dee-bd53-4554-b126-0a740f26c67c",
   "metadata": {},
   "source": [
    "# Analysis of Artist & Tracks\n",
    "\n",
    "- Most albums\n",
    "- Most tracks in album\n",
    "- Most tracks in genre\n",
    "\n",
    "At first we will look at the `head` rows to understand how we will\n",
    "\n",
    "group the information and analyze it."
   ]
  },
  {
   "cell_type": "code",
   "execution_count": 4,
   "id": "9d84a4d2-05fa-41f9-886f-be87cd81f1d4",
   "metadata": {
    "scrolled": true
   },
   "outputs": [
    {
     "data": {
      "text/html": [
       "<div>\n",
       "<style scoped>\n",
       "    .dataframe tbody tr th:only-of-type {\n",
       "        vertical-align: middle;\n",
       "    }\n",
       "\n",
       "    .dataframe tbody tr th {\n",
       "        vertical-align: top;\n",
       "    }\n",
       "\n",
       "    .dataframe thead th {\n",
       "        text-align: right;\n",
       "    }\n",
       "</style>\n",
       "<table border=\"1\" class=\"dataframe\">\n",
       "  <thead>\n",
       "    <tr style=\"text-align: right;\">\n",
       "      <th></th>\n",
       "      <th>trackid</th>\n",
       "      <th>name</th>\n",
       "      <th>albumid</th>\n",
       "      <th>mediatypeid</th>\n",
       "      <th>genreid</th>\n",
       "      <th>artistid</th>\n",
       "      <th>unitprice</th>\n",
       "      <th>album_title</th>\n",
       "      <th>artist_name</th>\n",
       "      <th>media_name</th>\n",
       "      <th>genre_name</th>\n",
       "      <th>seconds</th>\n",
       "      <th>length</th>\n",
       "    </tr>\n",
       "  </thead>\n",
       "  <tbody>\n",
       "    <tr>\n",
       "      <th>0</th>\n",
       "      <td>1</td>\n",
       "      <td>For Those About To Rock (We Salute You)</td>\n",
       "      <td>1</td>\n",
       "      <td>1</td>\n",
       "      <td>1</td>\n",
       "      <td>1</td>\n",
       "      <td>0.99</td>\n",
       "      <td>For Those About To Rock We Salute You</td>\n",
       "      <td>AC/DC</td>\n",
       "      <td>MPEG audio file</td>\n",
       "      <td>Rock</td>\n",
       "      <td>343</td>\n",
       "      <td>05:43</td>\n",
       "    </tr>\n",
       "    <tr>\n",
       "      <th>1</th>\n",
       "      <td>2</td>\n",
       "      <td>Balls to the Wall</td>\n",
       "      <td>2</td>\n",
       "      <td>2</td>\n",
       "      <td>1</td>\n",
       "      <td>2</td>\n",
       "      <td>0.99</td>\n",
       "      <td>Balls to the Wall</td>\n",
       "      <td>Accept</td>\n",
       "      <td>Protected AAC audio file</td>\n",
       "      <td>Rock</td>\n",
       "      <td>342</td>\n",
       "      <td>05:42</td>\n",
       "    </tr>\n",
       "    <tr>\n",
       "      <th>2</th>\n",
       "      <td>3</td>\n",
       "      <td>Fast As a Shark</td>\n",
       "      <td>3</td>\n",
       "      <td>2</td>\n",
       "      <td>1</td>\n",
       "      <td>2</td>\n",
       "      <td>0.99</td>\n",
       "      <td>Restless and Wild</td>\n",
       "      <td>Accept</td>\n",
       "      <td>Protected AAC audio file</td>\n",
       "      <td>Rock</td>\n",
       "      <td>230</td>\n",
       "      <td>03:50</td>\n",
       "    </tr>\n",
       "    <tr>\n",
       "      <th>3</th>\n",
       "      <td>4</td>\n",
       "      <td>Restless and Wild</td>\n",
       "      <td>3</td>\n",
       "      <td>2</td>\n",
       "      <td>1</td>\n",
       "      <td>2</td>\n",
       "      <td>0.99</td>\n",
       "      <td>Restless and Wild</td>\n",
       "      <td>Accept</td>\n",
       "      <td>Protected AAC audio file</td>\n",
       "      <td>Rock</td>\n",
       "      <td>252</td>\n",
       "      <td>04:12</td>\n",
       "    </tr>\n",
       "    <tr>\n",
       "      <th>4</th>\n",
       "      <td>5</td>\n",
       "      <td>Princess of the Dawn</td>\n",
       "      <td>3</td>\n",
       "      <td>2</td>\n",
       "      <td>1</td>\n",
       "      <td>2</td>\n",
       "      <td>0.99</td>\n",
       "      <td>Restless and Wild</td>\n",
       "      <td>Accept</td>\n",
       "      <td>Protected AAC audio file</td>\n",
       "      <td>Rock</td>\n",
       "      <td>375</td>\n",
       "      <td>06:15</td>\n",
       "    </tr>\n",
       "  </tbody>\n",
       "</table>\n",
       "</div>"
      ],
      "text/plain": [
       "   trackid                                     name  albumid  mediatypeid  \\\n",
       "0        1  For Those About To Rock (We Salute You)        1            1   \n",
       "1        2                        Balls to the Wall        2            2   \n",
       "2        3                          Fast As a Shark        3            2   \n",
       "3        4                        Restless and Wild        3            2   \n",
       "4        5                     Princess of the Dawn        3            2   \n",
       "\n",
       "   genreid  artistid  unitprice                            album_title  \\\n",
       "0        1         1       0.99  For Those About To Rock We Salute You   \n",
       "1        1         2       0.99                      Balls to the Wall   \n",
       "2        1         2       0.99                      Restless and Wild   \n",
       "3        1         2       0.99                      Restless and Wild   \n",
       "4        1         2       0.99                      Restless and Wild   \n",
       "\n",
       "  artist_name                media_name genre_name  seconds length  \n",
       "0       AC/DC           MPEG audio file       Rock      343  05:43  \n",
       "1      Accept  Protected AAC audio file       Rock      342  05:42  \n",
       "2      Accept  Protected AAC audio file       Rock      230  03:50  \n",
       "3      Accept  Protected AAC audio file       Rock      252  04:12  \n",
       "4      Accept  Protected AAC audio file       Rock      375  06:15  "
      ]
     },
     "execution_count": 4,
     "metadata": {},
     "output_type": "execute_result"
    }
   ],
   "source": [
    "dim_track.head()"
   ]
  },
  {
   "cell_type": "markdown",
   "id": "e02bc7e4-879d-4a90-8d06-d8f13e0b181c",
   "metadata": {},
   "source": [
    "From the results above we can understnad that we need to group by ethier\n",
    "\n",
    "`artist_name` and `genre_name` for the \"Most tracks in genre\""
   ]
  },
  {
   "cell_type": "code",
   "execution_count": 5,
   "id": "f2c13712-05ff-49ec-8cea-4f6cf4337b92",
   "metadata": {},
   "outputs": [
    {
     "data": {
      "text/plain": [
       "artist_name\n",
       "Iron Maiden     21\n",
       "Led Zeppelin    14\n",
       "Deep Purple     11\n",
       "Metallica       10\n",
       "U2              10\n",
       "Name: albumid, dtype: int64"
      ]
     },
     "execution_count": 5,
     "metadata": {},
     "output_type": "execute_result"
    }
   ],
   "source": [
    "# starting by grouping by artist_name and count the amount of unique albums.\n",
    "most_albums = dim_track.groupby(\"artist_name\")['albumid'].nunique().sort_values(ascending=False).head(5)\n",
    "most_albums"
   ]
  },
  {
   "cell_type": "code",
   "execution_count": 6,
   "id": "f0b4825b-562e-44c2-b253-85b8022f87e3",
   "metadata": {},
   "outputs": [
    {
     "data": {
      "text/plain": [
       "artist_name\n",
       "Iron Maiden     213\n",
       "U2              135\n",
       "Led Zeppelin    114\n",
       "Metallica       112\n",
       "Deep Purple      92\n",
       "Name: trackid, dtype: int64"
      ]
     },
     "execution_count": 6,
     "metadata": {},
     "output_type": "execute_result"
    }
   ],
   "source": [
    "# Moving on to count the amount of tracks by the same grouping as above.\n",
    "most_tracks = dim_track.groupby(\"artist_name\")['trackid'].nunique().sort_values(ascending=False).head(5)\n",
    "most_tracks"
   ]
  },
  {
   "cell_type": "code",
   "execution_count": 7,
   "id": "766069c4-8862-471e-a39f-f8bcf8632fce",
   "metadata": {},
   "outputs": [
    {
     "data": {
      "text/plain": [
       "genre_name\n",
       "Rock                  1297\n",
       "Latin                  579\n",
       "Metal                  374\n",
       "Alternative & Punk     332\n",
       "Jazz                   130\n",
       "Name: trackid, dtype: int64"
      ]
     },
     "execution_count": 7,
     "metadata": {},
     "output_type": "execute_result"
    }
   ],
   "source": [
    "# Last one need to group by genre_name to count the amount of tracks in each one.\n",
    "# Remember we only need the unique tracks.\n",
    "most_tracks_genre = dim_track.groupby(\"genre_name\")['trackid'].nunique().sort_values(ascending=False).head(5)\n",
    "most_tracks_genre"
   ]
  },
  {
   "cell_type": "code",
   "execution_count": 8,
   "id": "90fdbaf5-254f-4ca7-9788-3b7886efe1ce",
   "metadata": {},
   "outputs": [
    {
     "data": {
      "image/png": "[encoded data removed]",
      "text/plain": [
       "<Figure size 640x480 with 3 Axes>"
      ]
     },
     "metadata": {},
     "output_type": "display_data"
    }
   ],
   "source": [
    "# Now we got to the visual part of analyzing the data.\n",
    "# create the axes for all the plots\n",
    "# layout=\"constrained\" will fix the clamping of figures.\n",
    "fig,axes =  plt.subplots(nrows=1,ncols=3,sharex=False,sharey=False,layout=\"constrained\")\n",
    "axes[0].set_ylabel('tracks')\n",
    "most_albums.plot(kind='bar',ax=axes[0],title=\"Most Albums / Artist\")\n",
    "most_tracks.plot(kind='bar',ax=axes[1],title=\"Most Tracks / Artist\")\n",
    "most_tracks_genre.plot(kind='bar',ax=axes[2],title=\"Most Tracks / Genre\");"
   ]
  },
  {
   "cell_type": "markdown",
   "id": "ed6c4ae3-4561-440b-bc85-86c6c785022c",
   "metadata": {},
   "source": [
    "---"
   ]
  },
  {
   "cell_type": "markdown",
   "id": "c89fe8a1-dac8-4eae-9438-80ff01306dc2",
   "metadata": {
    "editable": true,
    "slideshow": {
     "slide_type": ""
    },
    "tags": []
   },
   "source": [
    "# Find the customer which generates most revenue\n",
    "\n",
    "We have to find out the customers who generated the most revenue\n",
    "\n",
    "to the company by both dollar and ILS.\n",
    "\n",
    "## Problem\n",
    "\n",
    "ILS always changes according to the dollar so we have to append the ILS\n",
    "\n",
    "amount of each invoice according to the date and only then calculate it."
   ]
  },
  {
   "cell_type": "code",
   "execution_count": 9,
   "id": "ae46d78f-0538-41f1-9748-6bf68d2e40ea",
   "metadata": {},
   "outputs": [
    {
     "data": {
      "text/html": [
       "<div>\n",
       "<style scoped>\n",
       "    .dataframe tbody tr th:only-of-type {\n",
       "        vertical-align: middle;\n",
       "    }\n",
       "\n",
       "    .dataframe tbody tr th {\n",
       "        vertical-align: top;\n",
       "    }\n",
       "\n",
       "    .dataframe thead th {\n",
       "        text-align: right;\n",
       "    }\n",
       "</style>\n",
       "<table border=\"1\" class=\"dataframe\">\n",
       "  <thead>\n",
       "    <tr style=\"text-align: right;\">\n",
       "      <th></th>\n",
       "      <th>invoiceid</th>\n",
       "      <th>customerid</th>\n",
       "      <th>invoicedate</th>\n",
       "      <th>billingcountry</th>\n",
       "      <th>total</th>\n",
       "    </tr>\n",
       "  </thead>\n",
       "  <tbody>\n",
       "    <tr>\n",
       "      <th>0</th>\n",
       "      <td>1</td>\n",
       "      <td>2</td>\n",
       "      <td>2018-01-01</td>\n",
       "      <td>Germany</td>\n",
       "      <td>1.98</td>\n",
       "    </tr>\n",
       "    <tr>\n",
       "      <th>1</th>\n",
       "      <td>2</td>\n",
       "      <td>4</td>\n",
       "      <td>2018-01-02</td>\n",
       "      <td>Norway</td>\n",
       "      <td>3.96</td>\n",
       "    </tr>\n",
       "    <tr>\n",
       "      <th>2</th>\n",
       "      <td>3</td>\n",
       "      <td>8</td>\n",
       "      <td>2018-01-03</td>\n",
       "      <td>Belgium</td>\n",
       "      <td>5.94</td>\n",
       "    </tr>\n",
       "    <tr>\n",
       "      <th>3</th>\n",
       "      <td>4</td>\n",
       "      <td>14</td>\n",
       "      <td>2018-01-06</td>\n",
       "      <td>Canada</td>\n",
       "      <td>8.91</td>\n",
       "    </tr>\n",
       "    <tr>\n",
       "      <th>4</th>\n",
       "      <td>5</td>\n",
       "      <td>23</td>\n",
       "      <td>2018-01-11</td>\n",
       "      <td>USA</td>\n",
       "      <td>13.86</td>\n",
       "    </tr>\n",
       "  </tbody>\n",
       "</table>\n",
       "</div>"
      ],
      "text/plain": [
       "   invoiceid  customerid invoicedate billingcountry  total\n",
       "0          1           2  2018-01-01        Germany   1.98\n",
       "1          2           4  2018-01-02         Norway   3.96\n",
       "2          3           8  2018-01-03        Belgium   5.94\n",
       "3          4          14  2018-01-06         Canada   8.91\n",
       "4          5          23  2018-01-11            USA  13.86"
      ]
     },
     "execution_count": 9,
     "metadata": {},
     "output_type": "execute_result"
    }
   ],
   "source": [
    "# Looking over the data to understand the table and how to analyze it.\n",
    "fact_invoice.head()"
   ]
  },
  {
   "cell_type": "code",
   "execution_count": 10,
   "id": "710d62b4-39d2-43cc-a8f4-faa2bad320c0",
   "metadata": {},
   "outputs": [],
   "source": [
    "# merge the invoice and currency tables in the data warehouse schema and only get the values needed.\n",
    "data = pd.merge(left=fact_invoice,right=dim_currency,left_on=\"invoicedate\",right_on=\"dates\",how='left')[['customerid','total','ils_value']]\n",
    "data = data.rename(columns={\"total\":\"total_dollars\"}) # rename to total_dollars to clarify.\n",
    "data['total_ils'] = data['total_dollars'] * data['ils_value']"
   ]
  },
  {
   "cell_type": "code",
   "execution_count": 11,
   "id": "7338638e-36ce-440d-b9d7-936dcd9dc0da",
   "metadata": {},
   "outputs": [],
   "source": [
    "# Get the highest revenue customers\n",
    "# We asscend by total_dollars because it will always be worth more than the ILS.\n",
    "most_revenue_customers = data.groupby('customerid')[['total_dollars','total_ils']].agg('sum').sort_values(ascending=False,by=['total_dollars']).reset_index()\n",
    "most_revenue_customers = most_revenue_customers.head(5) # Get only the top 5 most revenue."
   ]
  },
  {
   "cell_type": "code",
   "execution_count": 12,
   "id": "3d03b026-f122-4dd5-ac13-2f29ca8df217",
   "metadata": {},
   "outputs": [
    {
     "data": {
      "text/html": [
       "<div>\n",
       "<style scoped>\n",
       "    .dataframe tbody tr th:only-of-type {\n",
       "        vertical-align: middle;\n",
       "    }\n",
       "\n",
       "    .dataframe tbody tr th {\n",
       "        vertical-align: top;\n",
       "    }\n",
       "\n",
       "    .dataframe thead th {\n",
       "        text-align: right;\n",
       "    }\n",
       "</style>\n",
       "<table border=\"1\" class=\"dataframe\">\n",
       "  <thead>\n",
       "    <tr style=\"text-align: right;\">\n",
       "      <th></th>\n",
       "      <th>customerid</th>\n",
       "      <th>total_dollars</th>\n",
       "      <th>total_ils</th>\n",
       "      <th>fullname</th>\n",
       "    </tr>\n",
       "  </thead>\n",
       "  <tbody>\n",
       "    <tr>\n",
       "      <th>0</th>\n",
       "      <td>59</td>\n",
       "      <td>71.31</td>\n",
       "      <td>246.01959</td>\n",
       "      <td>Puja Srivastava</td>\n",
       "    </tr>\n",
       "    <tr>\n",
       "      <th>1</th>\n",
       "      <td>132</td>\n",
       "      <td>65.36</td>\n",
       "      <td>226.88945</td>\n",
       "      <td>Denise Kelly</td>\n",
       "    </tr>\n",
       "    <tr>\n",
       "      <th>2</th>\n",
       "      <td>179</td>\n",
       "      <td>55.44</td>\n",
       "      <td>185.51016</td>\n",
       "      <td>Josephine Gomez</td>\n",
       "    </tr>\n",
       "    <tr>\n",
       "      <th>3</th>\n",
       "      <td>6</td>\n",
       "      <td>49.62</td>\n",
       "      <td>172.56861</td>\n",
       "      <td>Helena Holý</td>\n",
       "    </tr>\n",
       "    <tr>\n",
       "      <th>4</th>\n",
       "      <td>26</td>\n",
       "      <td>47.62</td>\n",
       "      <td>157.98583</td>\n",
       "      <td>Richard Cunningham</td>\n",
       "    </tr>\n",
       "  </tbody>\n",
       "</table>\n",
       "</div>"
      ],
      "text/plain": [
       "   customerid  total_dollars  total_ils            fullname\n",
       "0          59          71.31  246.01959     Puja Srivastava\n",
       "1         132          65.36  226.88945        Denise Kelly\n",
       "2         179          55.44  185.51016     Josephine Gomez\n",
       "3           6          49.62  172.56861         Helena Holý\n",
       "4          26          47.62  157.98583  Richard Cunningham"
      ]
     },
     "execution_count": 12,
     "metadata": {},
     "output_type": "execute_result"
    }
   ],
   "source": [
    "# Merge the resulst above with customers table to get their names\n",
    "most_revenue_customers = most_revenue_customers.merge(dim_customer[['customerid','firstname','lastname']],on='customerid', how='left')\n",
    "# Better view with full name rather than firstname and lastname\n",
    "most_revenue_customers['fullname'] = most_revenue_customers['firstname'] + ' ' + most_revenue_customers['lastname'] \n",
    "# Get only the data which is needed.\n",
    "most_revenue_customers = most_revenue_customers[['customerid','total_dollars','total_ils','fullname']]\n",
    "most_revenue_customers"
   ]
  },
  {
   "cell_type": "code",
   "execution_count": 13,
   "id": "9c4e327b-1734-4bcb-87d7-250963357aba",
   "metadata": {},
   "outputs": [
    {
     "data": {
      "text/plain": [
       "<matplotlib.legend.Legend at 0x2a4b28b0620>"
      ]
     },
     "execution_count": 13,
     "metadata": {},
     "output_type": "execute_result"
    },
    {
     "data": {
      "image/png": "[encoded data removed]",
      "text/plain": [
       "<Figure size 640x480 with 1 Axes>"
      ]
     },
     "metadata": {},
     "output_type": "display_data"
    }
   ],
   "source": [
    "# plot to dollars and ILS\n",
    "most_revenue_customers.plot(kind='bar',x='fullname',y=['total_dollars','total_ils'])\n",
    "# More readable labels and add legend.\n",
    "plt.ylabel('revenue')\n",
    "plt.xlabel('customer')\n",
    "plt.legend(['$ - Dollars','₪ - ILS'])"
   ]
  },
  {
   "cell_type": "markdown",
   "id": "dc261d61-4423-4506-b097-cc9c6b840bd1",
   "metadata": {},
   "source": [
    "---"
   ]
  },
  {
   "cell_type": "markdown",
   "id": "f821c03a-baaa-42f5-a5ee-4704b321efd4",
   "metadata": {},
   "source": [
    "# Analyze monthly revenue trends yearly"
   ]
  },
  {
   "cell_type": "code",
   "execution_count": 14,
   "id": "44e70716-c4d7-4b65-a1d1-f18ed2a391c4",
   "metadata": {},
   "outputs": [
    {
     "data": {
      "text/html": [
       "<div>\n",
       "<style scoped>\n",
       "    .dataframe tbody tr th:only-of-type {\n",
       "        vertical-align: middle;\n",
       "    }\n",
       "\n",
       "    .dataframe tbody tr th {\n",
       "        vertical-align: top;\n",
       "    }\n",
       "\n",
       "    .dataframe thead th {\n",
       "        text-align: right;\n",
       "    }\n",
       "</style>\n",
       "<table border=\"1\" class=\"dataframe\">\n",
       "  <thead>\n",
       "    <tr style=\"text-align: right;\">\n",
       "      <th></th>\n",
       "      <th>invoiceid</th>\n",
       "      <th>customerid</th>\n",
       "      <th>invoicedate</th>\n",
       "      <th>billingcountry</th>\n",
       "      <th>total</th>\n",
       "      <th>year</th>\n",
       "      <th>month</th>\n",
       "    </tr>\n",
       "  </thead>\n",
       "  <tbody>\n",
       "    <tr>\n",
       "      <th>0</th>\n",
       "      <td>1</td>\n",
       "      <td>2</td>\n",
       "      <td>2018-01-01</td>\n",
       "      <td>Germany</td>\n",
       "      <td>1.98</td>\n",
       "      <td>2018</td>\n",
       "      <td>1</td>\n",
       "    </tr>\n",
       "  </tbody>\n",
       "</table>\n",
       "</div>"
      ],
      "text/plain": [
       "   invoiceid  customerid invoicedate billingcountry  total  year  month\n",
       "0          1           2  2018-01-01        Germany   1.98  2018      1"
      ]
     },
     "execution_count": 14,
     "metadata": {},
     "output_type": "execute_result"
    }
   ],
   "source": [
    "# Add the year and month to each column\n",
    "fact_invoice['year'] = fact_invoice.invoicedate.dt.year\n",
    "fact_invoice['month'] = fact_invoice.invoicedate.dt.month\n",
    "# Check that the data created succesfully.\n",
    "fact_invoice.head(1)"
   ]
  },
  {
   "cell_type": "code",
   "execution_count": 15,
   "id": "49dbe63a-80ab-4e78-9682-1b357c964c0c",
   "metadata": {},
   "outputs": [
    {
     "data": {
      "image/png": "[encoded data removed]",
      "text/plain": [
       "<Figure size 1500x300 with 5 Axes>"
      ]
     },
     "metadata": {},
     "output_type": "display_data"
    }
   ],
   "source": [
    "# Create facet grid in order to display all of the plots one next to the other.\n",
    "grid = sns.FacetGrid(fact_invoice,col='year',hue='year',sharex=False,sharey=False)\n",
    "# make sure that months are ordered correctly.\n",
    "month_order = list(range(1,13))\n",
    "grid.map(sns.barplot,'month','total',estimator='sum',order=month_order)\n",
    "# change the y label to be total_dollars instead of just total.\n",
    "grid.set_axis_labels(y_var=\"total_dollars\");"
   ]
  },
  {
   "cell_type": "markdown",
   "id": "e57f89e8-82a1-4308-bfdb-207e42f6428e",
   "metadata": {},
   "source": [
    "---"
   ]
  },
  {
   "cell_type": "markdown",
   "id": "94c37b3e-24d0-4f40-ad52-f6a1eb795296",
   "metadata": {},
   "source": [
    "# Correlation between price and length\n",
    "\n",
    "To find if there is a correlation between the price and length\n",
    "\n",
    "we will need to divide all the tracks into bins and then look over\n",
    "\n",
    "the visual data.\n",
    "\n",
    "After dividing all of the tracks to bins we can look over the average\n",
    "\n",
    "unitprice of the tracks based on their bins."
   ]
  },
  {
   "cell_type": "code",
   "execution_count": 16,
   "id": "6a3d3301-0a7a-4665-8a49-30c54ae49efd",
   "metadata": {},
   "outputs": [],
   "source": [
    "# divide all of the tracks to bins\n",
    "dim_tracks_bins = dim_track.copy()\n",
    "bins = ['short','medium','long']\n",
    "dim_tracks_bins['bin'] = pd.cut(dim_track['seconds'],bins=3,labels=bins)"
   ]
  },
  {
   "cell_type": "code",
   "execution_count": 17,
   "id": "11165b3d-7009-4fad-959f-889cfff944d5",
   "metadata": {},
   "outputs": [
    {
     "data": {
      "text/plain": [
       "<Axes: xlabel='bin', ylabel='unitprice'>"
      ]
     },
     "execution_count": 17,
     "metadata": {},
     "output_type": "execute_result"
    },
    {
     "data": {
      "image/png": "[encoded data removed]",
      "text/plain": [
       "<Figure size 640x480 with 1 Axes>"
      ]
     },
     "metadata": {},
     "output_type": "display_data"
    }
   ],
   "source": [
    "# plot the data to look at it visually.\n",
    "sns.barplot(dim_tracks_bins,x='bin',y='unitprice',hue='bin',estimator='mean')"
   ]
  },
  {
   "cell_type": "markdown",
   "id": "5d1dc5ef-dccf-40b4-a70c-486e90d29e70",
   "metadata": {},
   "source": [
    "## Conclusions\n",
    "\n",
    "After dividing the tracks into bins of `short`, `medium` and `long`, we looked over\n",
    "\n",
    "the **average** unitprice for each bin over a visual bar chart.\n",
    "\n",
    "On the bar chart above we can see that **medium** and **long** tracks will\n",
    "usually set for **1.99 dollars**.\n",
    "\n",
    "On the other hand tracks that are short will be priced\n",
    "at **0.99 dollar**.\n",
    "\n",
    "**Therefor** there is a correlation between the length of the track and its price.\n",
    "\n",
    "The higher the length of the track the more expensive it will be."
   ]
  },
  {
   "cell_type": "markdown",
   "id": "ada767b8-02dd-405b-99f4-053f7645c097",
   "metadata": {},
   "source": [
    "---"
   ]
  },
  {
   "cell_type": "markdown",
   "id": "a3826f80-3c4d-4314-b4ad-0b6dd5c176b4",
   "metadata": {},
   "source": [
    "# Tracks Recommendation\n",
    "\n",
    "The customer need to get a recommendation for 6 tracks.\n",
    "\n",
    "## Conditions\n",
    "- The customer haven't buy the track yet.\n",
    "- It need's to be from 2 geners the the customer provide."
   ]
  },
  {
   "cell_type": "markdown",
   "id": "de002d64-060c-4b21-8f1d-4a2532e455a5",
   "metadata": {},
   "source": [
    "Let's look over the tables data to understand how can I correlate between them."
   ]
  },
  {
   "cell_type": "code",
   "execution_count": 18,
   "id": "9a232f43-5284-4ef2-9982-d103f62d2854",
   "metadata": {
    "scrolled": true
   },
   "outputs": [
    {
     "data": {
      "text/html": [
       "<div>\n",
       "<style scoped>\n",
       "    .dataframe tbody tr th:only-of-type {\n",
       "        vertical-align: middle;\n",
       "    }\n",
       "\n",
       "    .dataframe tbody tr th {\n",
       "        vertical-align: top;\n",
       "    }\n",
       "\n",
       "    .dataframe thead th {\n",
       "        text-align: right;\n",
       "    }\n",
       "</style>\n",
       "<table border=\"1\" class=\"dataframe\">\n",
       "  <thead>\n",
       "    <tr style=\"text-align: right;\">\n",
       "      <th></th>\n",
       "      <th>invoiceid</th>\n",
       "      <th>customerid</th>\n",
       "      <th>invoicedate</th>\n",
       "      <th>billingcountry</th>\n",
       "      <th>total</th>\n",
       "      <th>year</th>\n",
       "      <th>month</th>\n",
       "    </tr>\n",
       "  </thead>\n",
       "  <tbody>\n",
       "    <tr>\n",
       "      <th>0</th>\n",
       "      <td>1</td>\n",
       "      <td>2</td>\n",
       "      <td>2018-01-01</td>\n",
       "      <td>Germany</td>\n",
       "      <td>1.98</td>\n",
       "      <td>2018</td>\n",
       "      <td>1</td>\n",
       "    </tr>\n",
       "  </tbody>\n",
       "</table>\n",
       "</div>"
      ],
      "text/plain": [
       "   invoiceid  customerid invoicedate billingcountry  total  year  month\n",
       "0          1           2  2018-01-01        Germany   1.98  2018      1"
      ]
     },
     "execution_count": 18,
     "metadata": {},
     "output_type": "execute_result"
    }
   ],
   "source": [
    "fact_invoice.head(1)"
   ]
  },
  {
   "cell_type": "code",
   "execution_count": 19,
   "id": "db52331f-a3cf-40a4-8c0b-2010bfcddd5c",
   "metadata": {},
   "outputs": [
    {
     "data": {
      "text/html": [
       "<div>\n",
       "<style scoped>\n",
       "    .dataframe tbody tr th:only-of-type {\n",
       "        vertical-align: middle;\n",
       "    }\n",
       "\n",
       "    .dataframe tbody tr th {\n",
       "        vertical-align: top;\n",
       "    }\n",
       "\n",
       "    .dataframe thead th {\n",
       "        text-align: right;\n",
       "    }\n",
       "</style>\n",
       "<table border=\"1\" class=\"dataframe\">\n",
       "  <thead>\n",
       "    <tr style=\"text-align: right;\">\n",
       "      <th></th>\n",
       "      <th>invoicelineid</th>\n",
       "      <th>invoiceid</th>\n",
       "      <th>trackid</th>\n",
       "      <th>unitprice</th>\n",
       "      <th>quantity</th>\n",
       "      <th>last_update</th>\n",
       "      <th>line_total</th>\n",
       "    </tr>\n",
       "  </thead>\n",
       "  <tbody>\n",
       "    <tr>\n",
       "      <th>0</th>\n",
       "      <td>1</td>\n",
       "      <td>1</td>\n",
       "      <td>2</td>\n",
       "      <td>0.99</td>\n",
       "      <td>1</td>\n",
       "      <td>2023-01-04 12:05:45.793418</td>\n",
       "      <td>0.99</td>\n",
       "    </tr>\n",
       "  </tbody>\n",
       "</table>\n",
       "</div>"
      ],
      "text/plain": [
       "   invoicelineid  invoiceid  trackid  unitprice  quantity  \\\n",
       "0              1          1        2       0.99         1   \n",
       "\n",
       "                 last_update  line_total  \n",
       "0 2023-01-04 12:05:45.793418        0.99  "
      ]
     },
     "execution_count": 19,
     "metadata": {},
     "output_type": "execute_result"
    }
   ],
   "source": [
    "fact_invoiceline.head(1)"
   ]
  },
  {
   "cell_type": "code",
   "execution_count": 20,
   "id": "491cf0cf-7a4c-4974-814c-ffec1da1e792",
   "metadata": {},
   "outputs": [
    {
     "data": {
      "text/html": [
       "<div>\n",
       "<style scoped>\n",
       "    .dataframe tbody tr th:only-of-type {\n",
       "        vertical-align: middle;\n",
       "    }\n",
       "\n",
       "    .dataframe tbody tr th {\n",
       "        vertical-align: top;\n",
       "    }\n",
       "\n",
       "    .dataframe thead th {\n",
       "        text-align: right;\n",
       "    }\n",
       "</style>\n",
       "<table border=\"1\" class=\"dataframe\">\n",
       "  <thead>\n",
       "    <tr style=\"text-align: right;\">\n",
       "      <th></th>\n",
       "      <th>trackid</th>\n",
       "      <th>name</th>\n",
       "      <th>albumid</th>\n",
       "      <th>mediatypeid</th>\n",
       "      <th>genreid</th>\n",
       "      <th>artistid</th>\n",
       "      <th>unitprice</th>\n",
       "      <th>album_title</th>\n",
       "      <th>artist_name</th>\n",
       "      <th>media_name</th>\n",
       "      <th>genre_name</th>\n",
       "      <th>seconds</th>\n",
       "      <th>length</th>\n",
       "    </tr>\n",
       "  </thead>\n",
       "  <tbody>\n",
       "    <tr>\n",
       "      <th>0</th>\n",
       "      <td>1</td>\n",
       "      <td>For Those About To Rock (We Salute You)</td>\n",
       "      <td>1</td>\n",
       "      <td>1</td>\n",
       "      <td>1</td>\n",
       "      <td>1</td>\n",
       "      <td>0.99</td>\n",
       "      <td>For Those About To Rock We Salute You</td>\n",
       "      <td>AC/DC</td>\n",
       "      <td>MPEG audio file</td>\n",
       "      <td>Rock</td>\n",
       "      <td>343</td>\n",
       "      <td>05:43</td>\n",
       "    </tr>\n",
       "  </tbody>\n",
       "</table>\n",
       "</div>"
      ],
      "text/plain": [
       "   trackid                                     name  albumid  mediatypeid  \\\n",
       "0        1  For Those About To Rock (We Salute You)        1            1   \n",
       "\n",
       "   genreid  artistid  unitprice                            album_title  \\\n",
       "0        1         1       0.99  For Those About To Rock We Salute You   \n",
       "\n",
       "  artist_name       media_name genre_name  seconds length  \n",
       "0       AC/DC  MPEG audio file       Rock      343  05:43  "
      ]
     },
     "execution_count": 20,
     "metadata": {},
     "output_type": "execute_result"
    }
   ],
   "source": [
    "dim_track.head(1)"
   ]
  },
  {
   "cell_type": "code",
   "execution_count": 21,
   "id": "a393873a-a008-4304-b090-dea08835515b",
   "metadata": {},
   "outputs": [],
   "source": [
    "def get_recommendation(customer_id,genre_list):\n",
    "    \"\"\"\n",
    "    The functions takes it\n",
    "    customer_id - the customer_id\n",
    "    genre_list - a list object with 2 values in it which represent \n",
    "                 the genres that the user want to get recommendation to.\n",
    "    \"\"\"\n",
    "    # Get data of tracks and customer tracks purchesed list\n",
    "    data = pd.merge(fact_invoiceline,fact_invoice, on='invoiceid',how='left').merge(dim_track,on='trackid',how='left')\n",
    "    # Find out which tracks are the most popular \n",
    "    df_recomendation = data.groupby(['genre_name','trackid','name'])['invoicelineid'].count().reset_index(name='total_buy').sort_values(['genre_name', 'total_buy'],ascending=[True,False])\n",
    "    df_customer = data[(data['customerid'] == customer_id) & (data['genre_name'].isin(genre_list))][['customerid','trackid','genre_name']]\n",
    "    # Remove all the tracks which the user bought\n",
    "    df = df_recomendation[~df_recomendation['trackid'].isin(df_customer['trackid'])]\n",
    "    # Find the top 3 tracks for the genre\n",
    "    df = df.groupby('genre_name')[['genre_name','trackid','total_buy','name']].apply(lambda x: x.nlargest(3,'total_buy')).reset_index(drop=True)\n",
    "    # pretify the data frame for the user. Included the trackid for the user to find quicker.\n",
    "    df = df[df['genre_name'].isin(genre_list)].reset_index(drop=True)[['genre_name','name','trackid']]\n",
    "    return df"
   ]
  },
  {
   "cell_type": "code",
   "execution_count": 22,
   "id": "c04e98d0-579f-42ea-8df9-3cb1013ed520",
   "metadata": {},
   "outputs": [],
   "source": [
    "# Proof of recomendation working.\n",
    "test_results = pd.merge(fact_invoice[fact_invoice['customerid'] == 41],fact_invoiceline, on='invoiceid',how='inner')[['customerid','trackid']]\n",
    "user_41_recomendation = get_recommendation(41,['World','Latin'])"
   ]
  },
  {
   "cell_type": "code",
   "execution_count": 23,
   "id": "b7a1dc3a-6a51-428b-b0b9-f4748d3400e9",
   "metadata": {
    "scrolled": true
   },
   "outputs": [
    {
     "data": {
      "text/html": [
       "<div>\n",
       "<style scoped>\n",
       "    .dataframe tbody tr th:only-of-type {\n",
       "        vertical-align: middle;\n",
       "    }\n",
       "\n",
       "    .dataframe tbody tr th {\n",
       "        vertical-align: top;\n",
       "    }\n",
       "\n",
       "    .dataframe thead th {\n",
       "        text-align: right;\n",
       "    }\n",
       "</style>\n",
       "<table border=\"1\" class=\"dataframe\">\n",
       "  <thead>\n",
       "    <tr style=\"text-align: right;\">\n",
       "      <th></th>\n",
       "      <th>genre_name</th>\n",
       "      <th>name</th>\n",
       "      <th>trackid</th>\n",
       "    </tr>\n",
       "  </thead>\n",
       "  <tbody>\n",
       "    <tr>\n",
       "      <th>0</th>\n",
       "      <td>Latin</td>\n",
       "      <td>Geni E O Zepelim</td>\n",
       "      <td>241</td>\n",
       "    </tr>\n",
       "    <tr>\n",
       "      <th>1</th>\n",
       "      <td>Latin</td>\n",
       "      <td>Agora Que O Dia Acordou</td>\n",
       "      <td>594</td>\n",
       "    </tr>\n",
       "    <tr>\n",
       "      <th>2</th>\n",
       "      <td>Latin</td>\n",
       "      <td>Chão de Giz (Elba Ramalho)</td>\n",
       "      <td>663</td>\n",
       "    </tr>\n",
       "    <tr>\n",
       "      <th>3</th>\n",
       "      <td>World</td>\n",
       "      <td>Cafezinho</td>\n",
       "      <td>1544</td>\n",
       "    </tr>\n",
       "    <tr>\n",
       "      <th>4</th>\n",
       "      <td>World</td>\n",
       "      <td>Choramingando</td>\n",
       "      <td>1533</td>\n",
       "    </tr>\n",
       "    <tr>\n",
       "      <th>5</th>\n",
       "      <td>World</td>\n",
       "      <td>Já Foi</td>\n",
       "      <td>1964</td>\n",
       "    </tr>\n",
       "  </tbody>\n",
       "</table>\n",
       "</div>"
      ],
      "text/plain": [
       "  genre_name                        name  trackid\n",
       "0      Latin            Geni E O Zepelim      241\n",
       "1      Latin     Agora Que O Dia Acordou      594\n",
       "2      Latin  Chão de Giz (Elba Ramalho)      663\n",
       "3      World                   Cafezinho     1544\n",
       "4      World               Choramingando     1533\n",
       "5      World                      Já Foi     1964"
      ]
     },
     "execution_count": 23,
     "metadata": {},
     "output_type": "execute_result"
    }
   ],
   "source": [
    "user_41_recomendation"
   ]
  },
  {
   "cell_type": "code",
   "execution_count": 24,
   "id": "b556c4ea-20b9-44e6-8ed2-935cfe64bf72",
   "metadata": {},
   "outputs": [
    {
     "data": {
      "text/plain": [
       "0    False\n",
       "1    False\n",
       "2    False\n",
       "3    False\n",
       "4    False\n",
       "5    False\n",
       "Name: trackid, dtype: bool"
      ]
     },
     "execution_count": 24,
     "metadata": {},
     "output_type": "execute_result"
    }
   ],
   "source": [
    "user_41_recomendation['trackid'].isin(test_results['trackid'])"
   ]
  },
  {
   "cell_type": "markdown",
   "id": "edaece87-488e-41f7-9285-3e94bb171942",
   "metadata": {},
   "source": [
    "---"
   ]
  },
  {
   "cell_type": "markdown",
   "id": "fa748476-d517-493e-882c-a979e9324860",
   "metadata": {},
   "source": [
    "# My own analysis - Assessing playlist revenue contribution at the country level"
   ]
  },
  {
   "cell_type": "markdown",
   "id": "56eb13b6-2aa4-49dc-9079-3cf2ac2e53ca",
   "metadata": {},
   "source": [
    "## Note to self on tables, can be skipped by the reader\n",
    "\n",
    "So the data that can be analyzed are the following:\n",
    "- Invoices - can give total revenue and the amount of orders\n",
    "- Invoiceline - can give more details about the invoice itself by giving the trackid\n",
    "- tracks - can analysis something with the companies or bands which already has been analyzed in [here](#Analysis-of-Artist-&-Tracks)\n",
    "- playlist - show more information about which songs are more commonly picked on playlists\n",
    "\n",
    "helper tables will be:\n",
    "- customers - can get the country, company, city...\n",
    "- employee - can get the department and use it to analyze\n",
    "- currency - if there is a need to show the total in ILS, like showed in [here](#Find-the-customer-which-generates-most-revenue)"
   ]
  },
  {
   "cell_type": "markdown",
   "id": "deb4c291-695b-4ae4-a294-cac60fdbd418",
   "metadata": {},
   "source": [
    "## Assessing playlist revenue contribution at the country level"
   ]
  },
  {
   "cell_type": "markdown",
   "id": "3b5e0ba7-1e5e-44f7-a45a-59be8dc12a56",
   "metadata": {},
   "source": [
    "### First find out which country generates the most revenue"
   ]
  },
  {
   "cell_type": "code",
   "execution_count": 25,
   "id": "e2171d13-e9b7-4ef9-8976-9591027fcf4b",
   "metadata": {},
   "outputs": [
    {
     "data": {
      "text/html": [
       "<div>\n",
       "<style scoped>\n",
       "    .dataframe tbody tr th:only-of-type {\n",
       "        vertical-align: middle;\n",
       "    }\n",
       "\n",
       "    .dataframe tbody tr th {\n",
       "        vertical-align: top;\n",
       "    }\n",
       "\n",
       "    .dataframe thead th {\n",
       "        text-align: right;\n",
       "    }\n",
       "</style>\n",
       "<table border=\"1\" class=\"dataframe\">\n",
       "  <thead>\n",
       "    <tr style=\"text-align: right;\">\n",
       "      <th></th>\n",
       "      <th>billingcountry</th>\n",
       "      <th>revenue</th>\n",
       "      <th>total_customers</th>\n",
       "    </tr>\n",
       "  </thead>\n",
       "  <tbody>\n",
       "    <tr>\n",
       "      <th>0</th>\n",
       "      <td>India</td>\n",
       "      <td>1267.59</td>\n",
       "      <td>168</td>\n",
       "    </tr>\n",
       "    <tr>\n",
       "      <th>1</th>\n",
       "      <td>China</td>\n",
       "      <td>898.29</td>\n",
       "      <td>139</td>\n",
       "    </tr>\n",
       "    <tr>\n",
       "      <th>2</th>\n",
       "      <td>United States</td>\n",
       "      <td>830.84</td>\n",
       "      <td>115</td>\n",
       "    </tr>\n",
       "    <tr>\n",
       "      <th>3</th>\n",
       "      <td>Brazil</td>\n",
       "      <td>735.83</td>\n",
       "      <td>81</td>\n",
       "    </tr>\n",
       "    <tr>\n",
       "      <th>4</th>\n",
       "      <td>Japan</td>\n",
       "      <td>564.44</td>\n",
       "      <td>85</td>\n",
       "    </tr>\n",
       "    <tr>\n",
       "      <th>...</th>\n",
       "      <td>...</td>\n",
       "      <td>...</td>\n",
       "      <td>...</td>\n",
       "    </tr>\n",
       "    <tr>\n",
       "      <th>110</th>\n",
       "      <td>Zambia</td>\n",
       "      <td>5.94</td>\n",
       "      <td>1</td>\n",
       "    </tr>\n",
       "    <tr>\n",
       "      <th>111</th>\n",
       "      <td>Lithuania</td>\n",
       "      <td>3.97</td>\n",
       "      <td>1</td>\n",
       "    </tr>\n",
       "    <tr>\n",
       "      <th>112</th>\n",
       "      <td>Bahrain</td>\n",
       "      <td>3.96</td>\n",
       "      <td>1</td>\n",
       "    </tr>\n",
       "    <tr>\n",
       "      <th>113</th>\n",
       "      <td>Iraq</td>\n",
       "      <td>3.96</td>\n",
       "      <td>1</td>\n",
       "    </tr>\n",
       "    <tr>\n",
       "      <th>114</th>\n",
       "      <td>Gambia</td>\n",
       "      <td>1.98</td>\n",
       "      <td>1</td>\n",
       "    </tr>\n",
       "  </tbody>\n",
       "</table>\n",
       "<p>115 rows × 3 columns</p>\n",
       "</div>"
      ],
      "text/plain": [
       "    billingcountry  revenue  total_customers\n",
       "0            India  1267.59              168\n",
       "1            China   898.29              139\n",
       "2    United States   830.84              115\n",
       "3           Brazil   735.83               81\n",
       "4            Japan   564.44               85\n",
       "..             ...      ...              ...\n",
       "110         Zambia     5.94                1\n",
       "111      Lithuania     3.97                1\n",
       "112        Bahrain     3.96                1\n",
       "113           Iraq     3.96                1\n",
       "114         Gambia     1.98                1\n",
       "\n",
       "[115 rows x 3 columns]"
      ]
     },
     "execution_count": 25,
     "metadata": {},
     "output_type": "execute_result"
    }
   ],
   "source": [
    "# Get the total revenue by grouping to countries.\n",
    "data = fact_invoice.groupby('billingcountry')['total'].sum().reset_index(name=\"revenue\").sort_values(by='revenue',ascending=False)\n",
    "# Get the total amount of customers on each country.\n",
    "customer_amount = fact_invoice.groupby('billingcountry')['customerid'].nunique().reset_index(name=\"total_customers\")\n",
    "# merge the data.\n",
    "data = data.merge(customer_amount,on='billingcountry',how='left')\n",
    "data"
   ]
  },
  {
   "cell_type": "markdown",
   "id": "d5de4872-2e54-40cc-be31-2a5d8992f539",
   "metadata": {},
   "source": [
    "We filter out countries with less than 100 dollars as they\n",
    "\n",
    "have a significantly smaller customer base."
   ]
  },
  {
   "cell_type": "code",
   "execution_count": 26,
   "id": "f99433e9-b9b6-4bd8-894b-7a6e90e2a632",
   "metadata": {},
   "outputs": [
    {
     "data": {
      "text/plain": [
       "<Axes: xlabel='billingcountry', ylabel='revenue'>"
      ]
     },
     "execution_count": 26,
     "metadata": {},
     "output_type": "execute_result"
    },
    {
     "data": {
      "image/png": "[encoded data removed]",
      "text/plain": [
       "<Figure size 1600x800 with 1 Axes>"
      ]
     },
     "metadata": {},
     "output_type": "display_data"
    }
   ],
   "source": [
    "# Countries with low revenue are usually countries where\n",
    "# there are not a lot of customers to sample so filter them out.\n",
    "data = data[data['revenue'] > 100]\n",
    "\n",
    "# plot configuration\n",
    "plt.figure(figsize=(16,8))\n",
    "plt.xticks(rotation=90)\n",
    "plt.yticks(range(0, round(max(data[\"revenue\"])), 50))\n",
    "plt.ylim(100)\n",
    "\n",
    "sns.barplot(data,x='billingcountry',y='revenue')"
   ]
  },
  {
   "cell_type": "markdown",
   "id": "5329d348-6227-428d-83f6-b57604b497b0",
   "metadata": {},
   "source": [
    "### Find the type of track which generate most revenue\n",
    "After filtering the countries of most relevent revenue,<br>\n",
    "we can now analyze the playlist revenue"
   ]
  },
  {
   "cell_type": "code",
   "execution_count": 27,
   "id": "5665ed88-ddbd-4ac6-b571-41ff47c9293c",
   "metadata": {},
   "outputs": [
    {
     "data": {
      "text/plain": [
       "Text(0.5, 1.0, 'Most Revenue Playlist')"
      ]
     },
     "execution_count": 27,
     "metadata": {},
     "output_type": "execute_result"
    },
    {
     "data": {
      "image/png": "[encoded data removed]",
      "text/plain": [
       "<Figure size 1200x800 with 1 Axes>"
      ]
     },
     "metadata": {},
     "output_type": "display_data"
    }
   ],
   "source": [
    "# get only the countries which are in our data or most revenue countries.\n",
    "df_invoice_top_countries = fact_invoice[fact_invoice['billingcountry'].isin(data['billingcountry'])]['invoiceid'] \n",
    "# get tracks which are pressented on the df_invoice_top_countries\n",
    "df_tracks = fact_invoiceline[fact_invoiceline['invoiceid'].isin(df_invoice_top_countries.values)] \n",
    "# Count the tracks which are sold from all of the types.\n",
    "df_playlist_information = dim_playlist[dim_playlist['trackid'].isin(df_tracks['trackid'])]['name'].value_counts().reset_index(name='total_sold')\n",
    "\n",
    "\n",
    "# Some plotting configuration\n",
    "plt.figure(figsize=(12,8))\n",
    "plt.xlabel('Type')\n",
    "plt.ylabel('Total Sold')\n",
    "\n",
    "# Display as bar plot\n",
    "sns.barplot(df_playlist_information.head(5),x='name',y='total_sold').set_title(\"Most Revenue Playlist\")"
   ]
  },
  {
   "cell_type": "markdown",
   "id": "da0c5ae9-9e18-4a94-b49f-62290d2b000c",
   "metadata": {},
   "source": [
    "As we can see from the data above customers from the countries which have 100$ total\n",
    "\n",
    "revenue and above, will usually buy **Music**, **90's Music** and **Tv Shows**.\n",
    "\n",
    "Therefor when there is a new track which joined those types, send a message to all the customers. \n",
    "\n",
    "It is most likely that they will buy the track if he's in those types or tracks."
   ]
  }
 ],
 "metadata": {
  "kernelspec": {
   "display_name": "Python 3 (ipykernel)",
   "language": "python",
   "name": "python3"
  },
  "language_info": {
   "codemirror_mode": {
    "name": "ipython",
    "version": 3
   },
   "file_extension": ".py",
   "mimetype": "text/x-python",
   "name": "python",
   "nbconvert_exporter": "python",
   "pygments_lexer": "ipython3",
   "version": "3.12.5"
  }
 },
 "nbformat": 4,
 "nbformat_minor": 5
}
