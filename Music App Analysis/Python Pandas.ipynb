{
 "cells": [
  {
   "cell_type": "markdown",
   "id": "6c61e866-8bc5-4a91-bc5c-80dfeaacee8d",
   "metadata": {},
   "source": [
    "# Install needed dependency"
   ]
  },
  {
   "cell_type": "code",
   "execution_count": 1,
   "id": "6d818e1a-d101-4817-beac-12a966e28cd2",
   "metadata": {},
   "outputs": [],
   "source": [
    "%%capture\n",
    "!pip install numpy pandas sqlalchemy psycopg2"
   ]
  },
  {
   "cell_type": "markdown",
   "id": "88ced8cd-ab4c-432a-b52b-a8ecfe2caf87",
   "metadata": {},
   "source": [
    "# Importing packages & Reading data"
   ]
  },
  {
   "cell_type": "code",
   "execution_count": 2,
   "id": "31de584d-7c6f-40ee-b810-a84f73de08e6",
   "metadata": {},
   "outputs": [],
   "source": [
    "import pandas as pd\n",
    "import numpy as np\n",
    "import sqlalchemy\n",
    "from sqlalchemy import create_engine\n",
    "import json\n",
    "from datetime import timedelta\n",
    "import requests"
   ]
  },
  {
   "cell_type": "markdown",
   "id": "0c6c207b-3c83-40b1-a7a2-6c3d1d83915b",
   "metadata": {},
   "source": [
    "## Reading Files:\n",
    "each file contains a different format.\n",
    "\n",
    "## First file\n",
    "The first file contains a json like data but is missing the wrapping around.\n",
    "So we will create a function that will read each line and parse the line as json and add it to array.\n",
    "at the end return it as DataFrame object.\n",
    "\n",
    "## Second file\n",
    "Its a basic json file which can be read using the `read_json` function\n",
    "\n",
    "## Third file\n",
    "Its a csv like file using a `-` as the dilimiter."
   ]
  },
  {
   "cell_type": "markdown",
   "id": "9d0c280c-cd83-4458-9360-dc84ba234c41",
   "metadata": {},
   "source": [
    "## Reading the first file:"
   ]
  },
  {
   "cell_type": "code",
   "execution_count": 3,
   "id": "a1cd677d-d2b4-4a3e-96f4-3e124d997160",
   "metadata": {},
   "outputs": [],
   "source": [
    "def read_raw_department_budget():\n",
    "    with open(\"raw-department-budget.txt\",mode=\"r\") as file:\n",
    "        lines = [json.loads(line) for line in file]\n",
    "    return pd.DataFrame(lines)"
   ]
  },
  {
   "cell_type": "code",
   "execution_count": 4,
   "id": "01288097-3811-4c8d-a3db-e930a3f54fc4",
   "metadata": {},
   "outputs": [
    {
     "data": {
      "text/html": [
       "<div>\n",
       "<style scoped>\n",
       "    .dataframe tbody tr th:only-of-type {\n",
       "        vertical-align: middle;\n",
       "    }\n",
       "\n",
       "    .dataframe tbody tr th {\n",
       "        vertical-align: top;\n",
       "    }\n",
       "\n",
       "    .dataframe thead th {\n",
       "        text-align: right;\n",
       "    }\n",
       "</style>\n",
       "<table border=\"1\" class=\"dataframe\">\n",
       "  <thead>\n",
       "    <tr style=\"text-align: right;\">\n",
       "      <th></th>\n",
       "      <th>sub_dep_id</th>\n",
       "      <th>sub_dep_name</th>\n",
       "      <th>department_id</th>\n",
       "      <th>budget</th>\n",
       "    </tr>\n",
       "  </thead>\n",
       "  <tbody>\n",
       "    <tr>\n",
       "      <th>0</th>\n",
       "      <td>1</td>\n",
       "      <td>managers</td>\n",
       "      <td>1</td>\n",
       "      <td>3000</td>\n",
       "    </tr>\n",
       "    <tr>\n",
       "      <th>1</th>\n",
       "      <td>2</td>\n",
       "      <td>managers2</td>\n",
       "      <td>1</td>\n",
       "      <td>1500</td>\n",
       "    </tr>\n",
       "    <tr>\n",
       "      <th>2</th>\n",
       "      <td>1</td>\n",
       "      <td>sales support john</td>\n",
       "      <td>2</td>\n",
       "      <td>2000</td>\n",
       "    </tr>\n",
       "    <tr>\n",
       "      <th>3</th>\n",
       "      <td>2</td>\n",
       "      <td>sales support joe</td>\n",
       "      <td>2</td>\n",
       "      <td>1000</td>\n",
       "    </tr>\n",
       "    <tr>\n",
       "      <th>4</th>\n",
       "      <td>3</td>\n",
       "      <td>sales support johnson</td>\n",
       "      <td>2</td>\n",
       "      <td>2500</td>\n",
       "    </tr>\n",
       "    <tr>\n",
       "      <th>5</th>\n",
       "      <td>4</td>\n",
       "      <td>sales support eduards</td>\n",
       "      <td>2</td>\n",
       "      <td>2500</td>\n",
       "    </tr>\n",
       "  </tbody>\n",
       "</table>\n",
       "</div>"
      ],
      "text/plain": [
       "   sub_dep_id           sub_dep_name  department_id  budget\n",
       "0           1               managers              1    3000\n",
       "1           2              managers2              1    1500\n",
       "2           1     sales support john              2    2000\n",
       "3           2      sales support joe              2    1000\n",
       "4           3  sales support johnson              2    2500\n",
       "5           4  sales support eduards              2    2500"
      ]
     },
     "execution_count": 4,
     "metadata": {},
     "output_type": "execute_result"
    }
   ],
   "source": [
    "df_depratment_budget = read_raw_department_budget()\n",
    "df_depratment_budget"
   ]
  },
  {
   "cell_type": "markdown",
   "id": "6456c40f-4d62-4e4f-b90b-4612905a0ff7",
   "metadata": {},
   "source": [
    "## Reading the second file:"
   ]
  },
  {
   "cell_type": "code",
   "execution_count": 5,
   "id": "092f2a8e-8d3a-4f34-86f0-41037ee3c508",
   "metadata": {},
   "outputs": [
    {
     "data": {
      "text/html": [
       "<div>\n",
       "<style scoped>\n",
       "    .dataframe tbody tr th:only-of-type {\n",
       "        vertical-align: middle;\n",
       "    }\n",
       "\n",
       "    .dataframe tbody tr th {\n",
       "        vertical-align: top;\n",
       "    }\n",
       "\n",
       "    .dataframe thead th {\n",
       "        text-align: right;\n",
       "    }\n",
       "</style>\n",
       "<table border=\"1\" class=\"dataframe\">\n",
       "  <thead>\n",
       "    <tr style=\"text-align: right;\">\n",
       "      <th></th>\n",
       "      <th>sub_dep_id</th>\n",
       "      <th>sub_dep_name</th>\n",
       "      <th>department_id</th>\n",
       "      <th>budget</th>\n",
       "    </tr>\n",
       "  </thead>\n",
       "  <tbody>\n",
       "    <tr>\n",
       "      <th>0</th>\n",
       "      <td>1</td>\n",
       "      <td>IT purchases</td>\n",
       "      <td>3</td>\n",
       "      <td>2000</td>\n",
       "    </tr>\n",
       "    <tr>\n",
       "      <th>1</th>\n",
       "      <td>2</td>\n",
       "      <td>IT maintenance</td>\n",
       "      <td>3</td>\n",
       "      <td>1500</td>\n",
       "    </tr>\n",
       "    <tr>\n",
       "      <th>2</th>\n",
       "      <td>3</td>\n",
       "      <td>IT other</td>\n",
       "      <td>3</td>\n",
       "      <td>1000</td>\n",
       "    </tr>\n",
       "  </tbody>\n",
       "</table>\n",
       "</div>"
      ],
      "text/plain": [
       "   sub_dep_id    sub_dep_name  department_id  budget\n",
       "0           1    IT purchases              3    2000\n",
       "1           2  IT maintenance              3    1500\n",
       "2           3        IT other              3    1000"
      ]
     },
     "execution_count": 5,
     "metadata": {},
     "output_type": "execute_result"
    }
   ],
   "source": [
    "df_depratment_budget_2 = pd.read_json(\"raw-department-budget2.txt\")\n",
    "df_depratment_budget_2"
   ]
  },
  {
   "cell_type": "markdown",
   "id": "a01d16cb-b153-4bd1-a365-c91525d9e6f6",
   "metadata": {},
   "source": [
    "## Reading the third file:"
   ]
  },
  {
   "cell_type": "code",
   "execution_count": 6,
   "id": "2d5e71c3-d6c0-4460-9ede-b01f2de0a1c7",
   "metadata": {},
   "outputs": [
    {
     "data": {
      "text/html": [
       "<div>\n",
       "<style scoped>\n",
       "    .dataframe tbody tr th:only-of-type {\n",
       "        vertical-align: middle;\n",
       "    }\n",
       "\n",
       "    .dataframe tbody tr th {\n",
       "        vertical-align: top;\n",
       "    }\n",
       "\n",
       "    .dataframe thead th {\n",
       "        text-align: right;\n",
       "    }\n",
       "</style>\n",
       "<table border=\"1\" class=\"dataframe\">\n",
       "  <thead>\n",
       "    <tr style=\"text-align: right;\">\n",
       "      <th></th>\n",
       "      <th>department_id</th>\n",
       "      <th>department_name</th>\n",
       "    </tr>\n",
       "  </thead>\n",
       "  <tbody>\n",
       "    <tr>\n",
       "      <th>0</th>\n",
       "      <td>1</td>\n",
       "      <td>General</td>\n",
       "    </tr>\n",
       "    <tr>\n",
       "      <th>1</th>\n",
       "      <td>2</td>\n",
       "      <td>Sales Support</td>\n",
       "    </tr>\n",
       "    <tr>\n",
       "      <th>2</th>\n",
       "      <td>3</td>\n",
       "      <td>IT</td>\n",
       "    </tr>\n",
       "  </tbody>\n",
       "</table>\n",
       "</div>"
      ],
      "text/plain": [
       "   department_id department_name\n",
       "0              1         General\n",
       "1              2   Sales Support\n",
       "2              3              IT"
      ]
     },
     "execution_count": 6,
     "metadata": {},
     "output_type": "execute_result"
    }
   ],
   "source": [
    "df_depratment = pd.read_csv(\"raw-department.txt\", sep=\"-\")\n",
    "df_depratment"
   ]
  },
  {
   "cell_type": "markdown",
   "id": "bd5b7da9-9bf9-4ee6-a712-c9ee9865b40b",
   "metadata": {},
   "source": [
    "## Creating `department_budget`"
   ]
  },
  {
   "cell_type": "markdown",
   "id": "40c84e5b-0912-4ec6-b522-f07d690e7db2",
   "metadata": {},
   "source": [
    "### Merge And Concat\n",
    "Concating the first two tables, as they are two parts of the same table.\n",
    "\n",
    "Then merging into the third table to get the departments."
   ]
  },
  {
   "cell_type": "code",
   "execution_count": 7,
   "id": "42b5219e-c82c-4303-9369-480c1568f562",
   "metadata": {},
   "outputs": [
    {
     "data": {
      "text/html": [
       "<div>\n",
       "<style scoped>\n",
       "    .dataframe tbody tr th:only-of-type {\n",
       "        vertical-align: middle;\n",
       "    }\n",
       "\n",
       "    .dataframe tbody tr th {\n",
       "        vertical-align: top;\n",
       "    }\n",
       "\n",
       "    .dataframe thead th {\n",
       "        text-align: right;\n",
       "    }\n",
       "</style>\n",
       "<table border=\"1\" class=\"dataframe\">\n",
       "  <thead>\n",
       "    <tr style=\"text-align: right;\">\n",
       "      <th></th>\n",
       "      <th>department_id</th>\n",
       "      <th>department_name</th>\n",
       "      <th>sub_dep_id</th>\n",
       "      <th>sub_dep_name</th>\n",
       "      <th>budget</th>\n",
       "    </tr>\n",
       "  </thead>\n",
       "  <tbody>\n",
       "    <tr>\n",
       "      <th>0</th>\n",
       "      <td>1</td>\n",
       "      <td>General</td>\n",
       "      <td>1</td>\n",
       "      <td>managers</td>\n",
       "      <td>3000</td>\n",
       "    </tr>\n",
       "    <tr>\n",
       "      <th>1</th>\n",
       "      <td>1</td>\n",
       "      <td>General</td>\n",
       "      <td>2</td>\n",
       "      <td>managers2</td>\n",
       "      <td>1500</td>\n",
       "    </tr>\n",
       "    <tr>\n",
       "      <th>2</th>\n",
       "      <td>2</td>\n",
       "      <td>Sales Support</td>\n",
       "      <td>1</td>\n",
       "      <td>sales support john</td>\n",
       "      <td>2000</td>\n",
       "    </tr>\n",
       "    <tr>\n",
       "      <th>3</th>\n",
       "      <td>2</td>\n",
       "      <td>Sales Support</td>\n",
       "      <td>2</td>\n",
       "      <td>sales support joe</td>\n",
       "      <td>1000</td>\n",
       "    </tr>\n",
       "    <tr>\n",
       "      <th>4</th>\n",
       "      <td>2</td>\n",
       "      <td>Sales Support</td>\n",
       "      <td>3</td>\n",
       "      <td>sales support johnson</td>\n",
       "      <td>2500</td>\n",
       "    </tr>\n",
       "    <tr>\n",
       "      <th>5</th>\n",
       "      <td>2</td>\n",
       "      <td>Sales Support</td>\n",
       "      <td>4</td>\n",
       "      <td>sales support eduards</td>\n",
       "      <td>2500</td>\n",
       "    </tr>\n",
       "    <tr>\n",
       "      <th>6</th>\n",
       "      <td>3</td>\n",
       "      <td>IT</td>\n",
       "      <td>1</td>\n",
       "      <td>IT purchases</td>\n",
       "      <td>2000</td>\n",
       "    </tr>\n",
       "    <tr>\n",
       "      <th>7</th>\n",
       "      <td>3</td>\n",
       "      <td>IT</td>\n",
       "      <td>2</td>\n",
       "      <td>IT maintenance</td>\n",
       "      <td>1500</td>\n",
       "    </tr>\n",
       "    <tr>\n",
       "      <th>8</th>\n",
       "      <td>3</td>\n",
       "      <td>IT</td>\n",
       "      <td>3</td>\n",
       "      <td>IT other</td>\n",
       "      <td>1000</td>\n",
       "    </tr>\n",
       "  </tbody>\n",
       "</table>\n",
       "</div>"
      ],
      "text/plain": [
       "   department_id department_name  sub_dep_id           sub_dep_name  budget\n",
       "0              1         General           1               managers    3000\n",
       "1              1         General           2              managers2    1500\n",
       "2              2   Sales Support           1     sales support john    2000\n",
       "3              2   Sales Support           2      sales support joe    1000\n",
       "4              2   Sales Support           3  sales support johnson    2500\n",
       "5              2   Sales Support           4  sales support eduards    2500\n",
       "6              3              IT           1           IT purchases    2000\n",
       "7              3              IT           2         IT maintenance    1500\n",
       "8              3              IT           3               IT other    1000"
      ]
     },
     "execution_count": 7,
     "metadata": {},
     "output_type": "execute_result"
    }
   ],
   "source": [
    "# Concat the raw-department files because they have the same datafrmae\n",
    "data_departments_budget = pd.concat([df_depratment_budget,df_depratment_budget_2], axis=0,ignore_index=True)\n",
    "# Merge the result of the concatination.\n",
    "data_merge = pd.merge(left=df_depratment,right=data_departments_budget,on=\"department_id\")\n",
    "data_merge"
   ]
  },
  {
   "cell_type": "markdown",
   "id": "fd192f9c-7981-4b41-a3f6-48940d04f3a6",
   "metadata": {},
   "source": [
    "### Grouping columns\n",
    "We only need the following columns:\n",
    "- department_id\n",
    "- department_name\n",
    "- budget"
   ]
  },
  {
   "cell_type": "code",
   "execution_count": 8,
   "id": "a5d534fe-172d-417c-93f1-2c8b8f384342",
   "metadata": {},
   "outputs": [
    {
     "data": {
      "text/html": [
       "<div>\n",
       "<style scoped>\n",
       "    .dataframe tbody tr th:only-of-type {\n",
       "        vertical-align: middle;\n",
       "    }\n",
       "\n",
       "    .dataframe tbody tr th {\n",
       "        vertical-align: top;\n",
       "    }\n",
       "\n",
       "    .dataframe thead th {\n",
       "        text-align: right;\n",
       "    }\n",
       "</style>\n",
       "<table border=\"1\" class=\"dataframe\">\n",
       "  <thead>\n",
       "    <tr style=\"text-align: right;\">\n",
       "      <th></th>\n",
       "      <th></th>\n",
       "      <th>budget</th>\n",
       "    </tr>\n",
       "    <tr>\n",
       "      <th>department_id</th>\n",
       "      <th>department_name</th>\n",
       "      <th></th>\n",
       "    </tr>\n",
       "  </thead>\n",
       "  <tbody>\n",
       "    <tr>\n",
       "      <th>1</th>\n",
       "      <th>General</th>\n",
       "      <td>4500</td>\n",
       "    </tr>\n",
       "    <tr>\n",
       "      <th>2</th>\n",
       "      <th>Sales Support</th>\n",
       "      <td>8000</td>\n",
       "    </tr>\n",
       "    <tr>\n",
       "      <th>3</th>\n",
       "      <th>IT</th>\n",
       "      <td>4500</td>\n",
       "    </tr>\n",
       "  </tbody>\n",
       "</table>\n",
       "</div>"
      ],
      "text/plain": [
       "                               budget\n",
       "department_id department_name        \n",
       "1             General            4500\n",
       "2             Sales Support      8000\n",
       "3             IT                 4500"
      ]
     },
     "execution_count": 8,
     "metadata": {},
     "output_type": "execute_result"
    }
   ],
   "source": [
    "df_budget = data_merge.groupby([\"department_id\",\"department_name\"])[[\"budget\"]].sum()\n",
    "df_budget"
   ]
  },
  {
   "cell_type": "markdown",
   "id": "271fe4c7-f9a0-4fef-ae17-1d11b4d85263",
   "metadata": {},
   "source": [
    "# Storing data in database\n",
    "Note: this is a localhost database."
   ]
  },
  {
   "cell_type": "markdown",
   "id": "76df7783-7e2b-45c1-b406-a223390d09a5",
   "metadata": {},
   "source": [
    "Create a connection to the database and create the new table"
   ]
  },
  {
   "cell_type": "code",
   "execution_count": 9,
   "id": "6891e20a-5b06-4314-a01f-3568e2d8c9a2",
   "metadata": {},
   "outputs": [],
   "source": [
    "# Change the information as needed.\n",
    "user = \"postgres\"\n",
    "password = \"123123\"\n",
    "db_name = \"chinook\"\n",
    "hostname = \"localhost\"\n",
    "connection_string = f\"postgresql+psycopg2://{user}:{password}@{hostname}/{db_name}\"\n",
    "engine = create_engine(connection_string)"
   ]
  },
  {
   "cell_type": "code",
   "execution_count": 10,
   "id": "41fc8108-8ccc-4441-bb87-a8f5fd0c6b71",
   "metadata": {},
   "outputs": [
    {
     "name": "stdout",
     "output_type": "stream",
     "text": [
      "Table already exists.\n"
     ]
    }
   ],
   "source": [
    "with engine.connect() as conn:\n",
    "    # if_exists will throw error if the table already exists\n",
    "    try:\n",
    "        df_budget.to_sql(name=\"department_budget\",con=conn,if_exists='fail')\n",
    "    except:\n",
    "        print(\"Table already exists.\")"
   ]
  },
  {
   "cell_type": "code",
   "execution_count": 11,
   "id": "c6561d7b-aa1d-47cf-b210-193bf935e45a",
   "metadata": {},
   "outputs": [],
   "source": [
    "# Check if the database was created successfully.\n",
    "with engine.connect() as conn:\n",
    "    budget = pd.read_sql_table('department_budget',conn,schema='stg')"
   ]
  },
  {
   "cell_type": "code",
   "execution_count": 12,
   "id": "e56aaf1f-3968-49e1-8bcb-5ddc80dfaa73",
   "metadata": {},
   "outputs": [
    {
     "data": {
      "text/html": [
       "<div>\n",
       "<style scoped>\n",
       "    .dataframe tbody tr th:only-of-type {\n",
       "        vertical-align: middle;\n",
       "    }\n",
       "\n",
       "    .dataframe tbody tr th {\n",
       "        vertical-align: top;\n",
       "    }\n",
       "\n",
       "    .dataframe thead th {\n",
       "        text-align: right;\n",
       "    }\n",
       "</style>\n",
       "<table border=\"1\" class=\"dataframe\">\n",
       "  <thead>\n",
       "    <tr style=\"text-align: right;\">\n",
       "      <th></th>\n",
       "      <th>department_id</th>\n",
       "      <th>department_name</th>\n",
       "      <th>budget</th>\n",
       "    </tr>\n",
       "  </thead>\n",
       "  <tbody>\n",
       "    <tr>\n",
       "      <th>0</th>\n",
       "      <td>1</td>\n",
       "      <td>General</td>\n",
       "      <td>4500</td>\n",
       "    </tr>\n",
       "    <tr>\n",
       "      <th>1</th>\n",
       "      <td>2</td>\n",
       "      <td>Sales Support</td>\n",
       "      <td>8000</td>\n",
       "    </tr>\n",
       "    <tr>\n",
       "      <th>2</th>\n",
       "      <td>3</td>\n",
       "      <td>IT</td>\n",
       "      <td>4500</td>\n",
       "    </tr>\n",
       "  </tbody>\n",
       "</table>\n",
       "</div>"
      ],
      "text/plain": [
       "   department_id department_name  budget\n",
       "0              1         General    4500\n",
       "1              2   Sales Support    8000\n",
       "2              3              IT    4500"
      ]
     },
     "execution_count": 12,
     "metadata": {},
     "output_type": "execute_result"
    }
   ],
   "source": [
    "budget"
   ]
  },
  {
   "cell_type": "markdown",
   "id": "0d87ebfe-03fa-4064-9c52-445a2ab5a53f",
   "metadata": {},
   "source": [
    "# API CURRENCIES\n",
    "The bank of isreal provide an [api](https://www.boi.org.il/media/tzxbuhhj/extracting-representative-exchange-rates-from-the-new-series-database.pdf) to convert from any currency to nis.\n",
    "\n",
    "> **NOTE:** there is a way to get dates by `from-to` but it doesn't work well.\n",
    ">\n",
    "> If the days provided are closed market days then it won't give back any data.\n",
    ">\n",
    "> Therefor the api just grabs the entire dataset."
   ]
  },
  {
   "cell_type": "code",
   "execution_count": 13,
   "id": "b9d186d9-ee62-4196-8cb5-ebc86fab4128",
   "metadata": {},
   "outputs": [],
   "source": [
    "# Proff of api\n",
    "def get_currency_rate_in_ils(currency = 'USD'):\n",
    "    \"\"\"\n",
    "    currency - 3 letters of the wanted currency\n",
    "    \n",
    "    get the currency exchange rates with dates from bank of isreal api\n",
    "    and returns a filtered DataFrame for the currency provided.\n",
    "    \"\"\"\n",
    "    df = pd.read_csv(\"https://edge.boi.gov.il/FusionEdgeServer/sdmx/v2/data/dataflow/BOI.STATISTICS/EXR/1.0/?c%5BDATA_TYPE%5D=OF00&format=csv\")\n",
    "    # Filter only the needed currency\n",
    "    df = df[df['BASE_CURRENCY'] == currency.upper()][['TIME_PERIOD','OBS_VALUE']].reset_index(drop=True)\n",
    "    df['TIME_PERIOD'] = pd.to_datetime(df['TIME_PERIOD'])\n",
    "    return df"
   ]
  },
  {
   "cell_type": "markdown",
   "id": "5068fa99-78cd-45ce-8b34-718117657fea",
   "metadata": {},
   "source": [
    "## Create a currency table\n",
    "\n",
    "Invoices holds the needed dates to filter from the api.\n",
    "\n",
    "For this reason we need to read the data from and get only the `invoicedate` column."
   ]
  },
  {
   "cell_type": "code",
   "execution_count": 14,
   "id": "130b3a39-9be8-4323-8c98-718cbabe9e60",
   "metadata": {},
   "outputs": [
    {
     "data": {
      "text/html": [
       "<div>\n",
       "<style scoped>\n",
       "    .dataframe tbody tr th:only-of-type {\n",
       "        vertical-align: middle;\n",
       "    }\n",
       "\n",
       "    .dataframe tbody tr th {\n",
       "        vertical-align: top;\n",
       "    }\n",
       "\n",
       "    .dataframe thead th {\n",
       "        text-align: right;\n",
       "    }\n",
       "</style>\n",
       "<table border=\"1\" class=\"dataframe\">\n",
       "  <thead>\n",
       "    <tr style=\"text-align: right;\">\n",
       "      <th></th>\n",
       "      <th>invoiceid</th>\n",
       "      <th>customerid</th>\n",
       "      <th>invoicedate</th>\n",
       "      <th>billingaddress</th>\n",
       "      <th>billingcity</th>\n",
       "      <th>billingstate</th>\n",
       "      <th>billingcountry</th>\n",
       "      <th>billingpostalcode</th>\n",
       "      <th>total</th>\n",
       "      <th>last_update</th>\n",
       "    </tr>\n",
       "  </thead>\n",
       "  <tbody>\n",
       "    <tr>\n",
       "      <th>0</th>\n",
       "      <td>1</td>\n",
       "      <td>2</td>\n",
       "      <td>2018-01-01</td>\n",
       "      <td>Theodor-Heuss-Straße 34</td>\n",
       "      <td>Stuttgart</td>\n",
       "      <td>None</td>\n",
       "      <td>Germany</td>\n",
       "      <td>70174</td>\n",
       "      <td>1.98</td>\n",
       "      <td>2023-01-04 12:05:40.330691</td>\n",
       "    </tr>\n",
       "    <tr>\n",
       "      <th>1</th>\n",
       "      <td>2</td>\n",
       "      <td>4</td>\n",
       "      <td>2018-01-02</td>\n",
       "      <td>Ullevålsveien 14</td>\n",
       "      <td>Oslo</td>\n",
       "      <td>None</td>\n",
       "      <td>Norway</td>\n",
       "      <td>0171</td>\n",
       "      <td>3.96</td>\n",
       "      <td>2023-01-04 12:05:40.332702</td>\n",
       "    </tr>\n",
       "    <tr>\n",
       "      <th>2</th>\n",
       "      <td>3</td>\n",
       "      <td>8</td>\n",
       "      <td>2018-01-03</td>\n",
       "      <td>Grétrystraat 63</td>\n",
       "      <td>Brussels</td>\n",
       "      <td>None</td>\n",
       "      <td>Belgium</td>\n",
       "      <td>1000</td>\n",
       "      <td>5.94</td>\n",
       "      <td>2023-01-04 12:05:40.334024</td>\n",
       "    </tr>\n",
       "    <tr>\n",
       "      <th>3</th>\n",
       "      <td>4</td>\n",
       "      <td>14</td>\n",
       "      <td>2018-01-06</td>\n",
       "      <td>8210 111 ST NW</td>\n",
       "      <td>Edmonton</td>\n",
       "      <td>AB</td>\n",
       "      <td>Canada</td>\n",
       "      <td>T6G 2C7</td>\n",
       "      <td>8.91</td>\n",
       "      <td>2023-01-04 12:05:40.335723</td>\n",
       "    </tr>\n",
       "    <tr>\n",
       "      <th>4</th>\n",
       "      <td>5</td>\n",
       "      <td>23</td>\n",
       "      <td>2018-01-11</td>\n",
       "      <td>69 Salem Street</td>\n",
       "      <td>Boston</td>\n",
       "      <td>MA</td>\n",
       "      <td>USA</td>\n",
       "      <td>2113</td>\n",
       "      <td>13.86</td>\n",
       "      <td>2023-01-04 12:05:40.336992</td>\n",
       "    </tr>\n",
       "  </tbody>\n",
       "</table>\n",
       "</div>"
      ],
      "text/plain": [
       "   invoiceid  customerid invoicedate           billingaddress billingcity  \\\n",
       "0          1           2  2018-01-01  Theodor-Heuss-Straße 34   Stuttgart   \n",
       "1          2           4  2018-01-02         Ullevålsveien 14        Oslo   \n",
       "2          3           8  2018-01-03          Grétrystraat 63    Brussels   \n",
       "3          4          14  2018-01-06           8210 111 ST NW    Edmonton   \n",
       "4          5          23  2018-01-11          69 Salem Street      Boston   \n",
       "\n",
       "  billingstate billingcountry billingpostalcode  total  \\\n",
       "0         None        Germany             70174   1.98   \n",
       "1         None         Norway              0171   3.96   \n",
       "2         None        Belgium              1000   5.94   \n",
       "3           AB         Canada           T6G 2C7   8.91   \n",
       "4           MA            USA              2113  13.86   \n",
       "\n",
       "                 last_update  \n",
       "0 2023-01-04 12:05:40.330691  \n",
       "1 2023-01-04 12:05:40.332702  \n",
       "2 2023-01-04 12:05:40.334024  \n",
       "3 2023-01-04 12:05:40.335723  \n",
       "4 2023-01-04 12:05:40.336992  "
      ]
     },
     "execution_count": 14,
     "metadata": {},
     "output_type": "execute_result"
    }
   ],
   "source": [
    "with engine.connect() as conn:\n",
    "    df_invoice = pd.read_sql_table(\"invoice\",conn,schema='stg')\n",
    "df_invoice.head()"
   ]
  },
  {
   "cell_type": "code",
   "execution_count": 15,
   "id": "ec8787b1-c06e-4127-b3ec-2f7e6eb32e63",
   "metadata": {
    "scrolled": true
   },
   "outputs": [
    {
     "data": {
      "text/plain": [
       "invoiceid                     int64\n",
       "customerid                    int64\n",
       "invoicedate          datetime64[ns]\n",
       "billingaddress               object\n",
       "billingcity                  object\n",
       "billingstate                 object\n",
       "billingcountry               object\n",
       "billingpostalcode            object\n",
       "total                       float64\n",
       "last_update          datetime64[ns]\n",
       "dtype: object"
      ]
     },
     "execution_count": 15,
     "metadata": {},
     "output_type": "execute_result"
    }
   ],
   "source": [
    "# Check that the date datatype is set currectly.\n",
    "df_invoice.dtypes"
   ]
  },
  {
   "cell_type": "code",
   "execution_count": 16,
   "id": "497be52f-4b3e-4db1-9597-2e85e67c9a60",
   "metadata": {},
   "outputs": [
    {
     "data": {
      "text/html": [
       "<div>\n",
       "<style scoped>\n",
       "    .dataframe tbody tr th:only-of-type {\n",
       "        vertical-align: middle;\n",
       "    }\n",
       "\n",
       "    .dataframe tbody tr th {\n",
       "        vertical-align: top;\n",
       "    }\n",
       "\n",
       "    .dataframe thead th {\n",
       "        text-align: right;\n",
       "    }\n",
       "</style>\n",
       "<table border=\"1\" class=\"dataframe\">\n",
       "  <thead>\n",
       "    <tr style=\"text-align: right;\">\n",
       "      <th></th>\n",
       "      <th>TIME_PERIOD</th>\n",
       "      <th>OBS_VALUE</th>\n",
       "    </tr>\n",
       "  </thead>\n",
       "  <tbody>\n",
       "    <tr>\n",
       "      <th>0</th>\n",
       "      <td>1948-05-15</td>\n",
       "      <td>0.000025</td>\n",
       "    </tr>\n",
       "    <tr>\n",
       "      <th>1</th>\n",
       "      <td>1949-09-19</td>\n",
       "      <td>0.000036</td>\n",
       "    </tr>\n",
       "    <tr>\n",
       "      <th>2</th>\n",
       "      <td>1954-01-01</td>\n",
       "      <td>0.000180</td>\n",
       "    </tr>\n",
       "    <tr>\n",
       "      <th>3</th>\n",
       "      <td>1962-02-10</td>\n",
       "      <td>0.000300</td>\n",
       "    </tr>\n",
       "    <tr>\n",
       "      <th>4</th>\n",
       "      <td>1967-11-19</td>\n",
       "      <td>0.000350</td>\n",
       "    </tr>\n",
       "  </tbody>\n",
       "</table>\n",
       "</div>"
      ],
      "text/plain": [
       "  TIME_PERIOD  OBS_VALUE\n",
       "0  1948-05-15   0.000025\n",
       "1  1949-09-19   0.000036\n",
       "2  1954-01-01   0.000180\n",
       "3  1962-02-10   0.000300\n",
       "4  1967-11-19   0.000350"
      ]
     },
     "execution_count": 16,
     "metadata": {},
     "output_type": "execute_result"
    }
   ],
   "source": [
    "# Use the api to get the dataframe.\n",
    "df_usd_ils = get_currency_rate_in_ils()\n",
    "df_usd_ils.head()"
   ]
  },
  {
   "cell_type": "code",
   "execution_count": 17,
   "id": "0cfa1022-1551-47ef-ada1-8c8b5980f5c1",
   "metadata": {},
   "outputs": [
    {
     "data": {
      "text/html": [
       "<div>\n",
       "<style scoped>\n",
       "    .dataframe tbody tr th:only-of-type {\n",
       "        vertical-align: middle;\n",
       "    }\n",
       "\n",
       "    .dataframe tbody tr th {\n",
       "        vertical-align: top;\n",
       "    }\n",
       "\n",
       "    .dataframe thead th {\n",
       "        text-align: right;\n",
       "    }\n",
       "</style>\n",
       "<table border=\"1\" class=\"dataframe\">\n",
       "  <thead>\n",
       "    <tr style=\"text-align: right;\">\n",
       "      <th></th>\n",
       "      <th>TIME_PERIOD</th>\n",
       "      <th>OBS_VALUE</th>\n",
       "    </tr>\n",
       "  </thead>\n",
       "  <tbody>\n",
       "    <tr>\n",
       "      <th>0</th>\n",
       "      <td>2018-01-02</td>\n",
       "      <td>3.457</td>\n",
       "    </tr>\n",
       "    <tr>\n",
       "      <th>1</th>\n",
       "      <td>2018-01-03</td>\n",
       "      <td>3.460</td>\n",
       "    </tr>\n",
       "    <tr>\n",
       "      <th>2</th>\n",
       "      <td>2018-01-04</td>\n",
       "      <td>3.448</td>\n",
       "    </tr>\n",
       "    <tr>\n",
       "      <th>3</th>\n",
       "      <td>2018-01-05</td>\n",
       "      <td>3.446</td>\n",
       "    </tr>\n",
       "    <tr>\n",
       "      <th>4</th>\n",
       "      <td>2018-01-09</td>\n",
       "      <td>3.444</td>\n",
       "    </tr>\n",
       "  </tbody>\n",
       "</table>\n",
       "</div>"
      ],
      "text/plain": [
       "  TIME_PERIOD  OBS_VALUE\n",
       "0  2018-01-02      3.457\n",
       "1  2018-01-03      3.460\n",
       "2  2018-01-04      3.448\n",
       "3  2018-01-05      3.446\n",
       "4  2018-01-09      3.444"
      ]
     },
     "execution_count": 17,
     "metadata": {},
     "output_type": "execute_result"
    }
   ],
   "source": [
    "# Get only the relevent dates for the invoice data.\n",
    "df_usd_ils = df_usd_ils[df_usd_ils['TIME_PERIOD'].isin(df_invoice['invoicedate'])].reset_index(drop=True)\n",
    "df_usd_ils.head()"
   ]
  },
  {
   "cell_type": "code",
   "execution_count": 18,
   "id": "e3a276a0-b0a1-47ce-9771-7a1c9715e5db",
   "metadata": {},
   "outputs": [],
   "source": [
    "# sorting both lists for later usage of `merge_asof` function.\n",
    "df_invoice_sorted = df_invoice.sort_values(\"invoicedate\")\n",
    "df_usd_ils_sorted = df_usd_ils.sort_values(\"TIME_PERIOD\")"
   ]
  },
  {
   "cell_type": "code",
   "execution_count": 19,
   "id": "faf5a248-3602-4f0c-8688-ed9332512966",
   "metadata": {},
   "outputs": [
    {
     "data": {
      "text/html": [
       "<div>\n",
       "<style scoped>\n",
       "    .dataframe tbody tr th:only-of-type {\n",
       "        vertical-align: middle;\n",
       "    }\n",
       "\n",
       "    .dataframe tbody tr th {\n",
       "        vertical-align: top;\n",
       "    }\n",
       "\n",
       "    .dataframe thead th {\n",
       "        text-align: right;\n",
       "    }\n",
       "</style>\n",
       "<table border=\"1\" class=\"dataframe\">\n",
       "  <thead>\n",
       "    <tr style=\"text-align: right;\">\n",
       "      <th></th>\n",
       "      <th>dates</th>\n",
       "    </tr>\n",
       "  </thead>\n",
       "  <tbody>\n",
       "    <tr>\n",
       "      <th>0</th>\n",
       "      <td>2018-01-01</td>\n",
       "    </tr>\n",
       "    <tr>\n",
       "      <th>1</th>\n",
       "      <td>2018-01-02</td>\n",
       "    </tr>\n",
       "    <tr>\n",
       "      <th>2</th>\n",
       "      <td>2018-01-03</td>\n",
       "    </tr>\n",
       "    <tr>\n",
       "      <th>3</th>\n",
       "      <td>2018-01-04</td>\n",
       "    </tr>\n",
       "    <tr>\n",
       "      <th>4</th>\n",
       "      <td>2018-01-05</td>\n",
       "    </tr>\n",
       "    <tr>\n",
       "      <th>...</th>\n",
       "      <td>...</td>\n",
       "    </tr>\n",
       "    <tr>\n",
       "      <th>1587</th>\n",
       "      <td>2022-12-18</td>\n",
       "    </tr>\n",
       "    <tr>\n",
       "      <th>1588</th>\n",
       "      <td>2022-12-19</td>\n",
       "    </tr>\n",
       "    <tr>\n",
       "      <th>1589</th>\n",
       "      <td>2022-12-20</td>\n",
       "    </tr>\n",
       "    <tr>\n",
       "      <th>1590</th>\n",
       "      <td>2022-12-21</td>\n",
       "    </tr>\n",
       "    <tr>\n",
       "      <th>1591</th>\n",
       "      <td>2022-12-22</td>\n",
       "    </tr>\n",
       "  </tbody>\n",
       "</table>\n",
       "<p>1592 rows × 1 columns</p>\n",
       "</div>"
      ],
      "text/plain": [
       "          dates\n",
       "0    2018-01-01\n",
       "1    2018-01-02\n",
       "2    2018-01-03\n",
       "3    2018-01-04\n",
       "4    2018-01-05\n",
       "...         ...\n",
       "1587 2022-12-18\n",
       "1588 2022-12-19\n",
       "1589 2022-12-20\n",
       "1590 2022-12-21\n",
       "1591 2022-12-22\n",
       "\n",
       "[1592 rows x 1 columns]"
      ]
     },
     "execution_count": 19,
     "metadata": {},
     "output_type": "execute_result"
    }
   ],
   "source": [
    "# merge_asof only works on sorted lists, therefor\n",
    "# both lists were sorted, so the new `df_unique_dates` has\n",
    "# left only the unique values sorted.\n",
    "df_unique_dates = pd.DataFrame(df_invoice_sorted[\"invoicedate\"].unique(),columns=[\"dates\"])\n",
    "df_unique_dates"
   ]
  },
  {
   "cell_type": "code",
   "execution_count": 20,
   "id": "6f264a5a-90c8-4e9d-bb4a-ac859a32915c",
   "metadata": {},
   "outputs": [
    {
     "data": {
      "text/html": [
       "<div>\n",
       "<style scoped>\n",
       "    .dataframe tbody tr th:only-of-type {\n",
       "        vertical-align: middle;\n",
       "    }\n",
       "\n",
       "    .dataframe tbody tr th {\n",
       "        vertical-align: top;\n",
       "    }\n",
       "\n",
       "    .dataframe thead th {\n",
       "        text-align: right;\n",
       "    }\n",
       "</style>\n",
       "<table border=\"1\" class=\"dataframe\">\n",
       "  <thead>\n",
       "    <tr style=\"text-align: right;\">\n",
       "      <th></th>\n",
       "      <th>dates</th>\n",
       "      <th>ils_value</th>\n",
       "    </tr>\n",
       "  </thead>\n",
       "  <tbody>\n",
       "    <tr>\n",
       "      <th>0</th>\n",
       "      <td>2018-01-01</td>\n",
       "      <td>3.457</td>\n",
       "    </tr>\n",
       "    <tr>\n",
       "      <th>1</th>\n",
       "      <td>2018-01-02</td>\n",
       "      <td>3.457</td>\n",
       "    </tr>\n",
       "    <tr>\n",
       "      <th>2</th>\n",
       "      <td>2018-01-03</td>\n",
       "      <td>3.460</td>\n",
       "    </tr>\n",
       "    <tr>\n",
       "      <th>3</th>\n",
       "      <td>2018-01-04</td>\n",
       "      <td>3.448</td>\n",
       "    </tr>\n",
       "    <tr>\n",
       "      <th>4</th>\n",
       "      <td>2018-01-05</td>\n",
       "      <td>3.446</td>\n",
       "    </tr>\n",
       "  </tbody>\n",
       "</table>\n",
       "</div>"
      ],
      "text/plain": [
       "       dates  ils_value\n",
       "0 2018-01-01      3.457\n",
       "1 2018-01-02      3.457\n",
       "2 2018-01-03      3.460\n",
       "3 2018-01-04      3.448\n",
       "4 2018-01-05      3.446"
      ]
     },
     "execution_count": 20,
     "metadata": {},
     "output_type": "execute_result"
    }
   ],
   "source": [
    "# merge_asof get etiher the value which is the same or\n",
    "# the *nearest* value to it. Therefor is a good choice\n",
    "# for merging based on dates with missing datas from the\n",
    "# api.\n",
    "df_dim_currency = pd.merge_asof(df_unique_dates,df_usd_ils_sorted,left_on=\"dates\",right_on=\"TIME_PERIOD\",direction=\"nearest\",allow_exact_matches=True)\n",
    "# drop unneeded columns.\n",
    "df_dim_currency = df_dim_currency.drop(columns=\"TIME_PERIOD\")\n",
    "# change the column name\n",
    "df_dim_currency = df_dim_currency.rename(columns={\"OBS_VALUE\":\"ils_value\"})\n",
    "# check that everything worked\n",
    "df_dim_currency.head()"
   ]
  },
  {
   "cell_type": "markdown",
   "id": "aaa295c5-8283-47ce-a2f6-305ceb6fdb50",
   "metadata": {},
   "source": [
    "## Creating the table in the database"
   ]
  },
  {
   "cell_type": "code",
   "execution_count": 21,
   "id": "91cda4b1-7d24-465b-a847-e2408f17affa",
   "metadata": {},
   "outputs": [
    {
     "data": {
      "text/html": [
       "<div>\n",
       "<style scoped>\n",
       "    .dataframe tbody tr th:only-of-type {\n",
       "        vertical-align: middle;\n",
       "    }\n",
       "\n",
       "    .dataframe tbody tr th {\n",
       "        vertical-align: top;\n",
       "    }\n",
       "\n",
       "    .dataframe thead th {\n",
       "        text-align: right;\n",
       "    }\n",
       "</style>\n",
       "<table border=\"1\" class=\"dataframe\">\n",
       "  <thead>\n",
       "    <tr style=\"text-align: right;\">\n",
       "      <th></th>\n",
       "      <th>dates</th>\n",
       "      <th>ils_value</th>\n",
       "    </tr>\n",
       "  </thead>\n",
       "  <tbody>\n",
       "    <tr>\n",
       "      <th>0</th>\n",
       "      <td>2018-01-01</td>\n",
       "      <td>3.457</td>\n",
       "    </tr>\n",
       "    <tr>\n",
       "      <th>1</th>\n",
       "      <td>2018-01-02</td>\n",
       "      <td>3.457</td>\n",
       "    </tr>\n",
       "    <tr>\n",
       "      <th>2</th>\n",
       "      <td>2018-01-03</td>\n",
       "      <td>3.460</td>\n",
       "    </tr>\n",
       "    <tr>\n",
       "      <th>3</th>\n",
       "      <td>2018-01-04</td>\n",
       "      <td>3.448</td>\n",
       "    </tr>\n",
       "    <tr>\n",
       "      <th>4</th>\n",
       "      <td>2018-01-05</td>\n",
       "      <td>3.446</td>\n",
       "    </tr>\n",
       "  </tbody>\n",
       "</table>\n",
       "</div>"
      ],
      "text/plain": [
       "       dates  ils_value\n",
       "0 2018-01-01      3.457\n",
       "1 2018-01-02      3.457\n",
       "2 2018-01-03      3.460\n",
       "3 2018-01-04      3.448\n",
       "4 2018-01-05      3.446"
      ]
     },
     "execution_count": 21,
     "metadata": {},
     "output_type": "execute_result"
    }
   ],
   "source": [
    "# The data from the api will probably be updated every day or week,\n",
    "# so when the dataframe is converted to sql it will append to the\n",
    "# table if its already exists.\n",
    "with engine.connect() as conn:\n",
    "    df_dim_currency.to_sql(name=\"dim_currency\",con=conn,schema='dwh',index=False,if_exists='append')\n",
    "    # check if table does exists\n",
    "    dim_currency = pd.read_sql_table(\"dim_currency\",con=conn,schema='dwh')\n",
    "dim_currency.head()"
   ]
  }
 ],
 "metadata": {
  "kernelspec": {
   "display_name": "Python 3 (ipykernel)",
   "language": "python",
   "name": "python3"
  },
  "language_info": {
   "codemirror_mode": {
    "name": "ipython",
    "version": 3
   },
   "file_extension": ".py",
   "mimetype": "text/x-python",
   "name": "python",
   "nbconvert_exporter": "python",
   "pygments_lexer": "ipython3",
   "version": "3.12.5"
  }
 },
 "nbformat": 4,
 "nbformat_minor": 5
}
